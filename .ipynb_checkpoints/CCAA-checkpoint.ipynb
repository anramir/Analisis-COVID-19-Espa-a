{
 "cells": [
  {
   "cell_type": "code",
   "execution_count": 1,
   "metadata": {},
   "outputs": [],
   "source": [
    "import pandas as pd\n",
    "import matplotlib.pyplot as plt\n",
    "import numpy as np\n",
    "import seaborn as sns\n",
    "import urllib.request as request\n",
    "from sklearn.linear_model import LinearRegression\n",
    "import ipywidgets as widgets\n",
    "from ipywidgets import interact\n",
    "%matplotlib inline"
   ]
  },
  {
   "cell_type": "code",
   "execution_count": 14,
   "metadata": {},
   "outputs": [],
   "source": [
    "plt.rcParams['axes.edgecolor'] = \"lightgrey\"\n",
    "plt.rcParams['font.size'] = 10\n",
    "plt.rcParams['font.family'] = 'sans-serif'\n",
    "plt.rcParams['xtick.color'] = \"grey\"\n",
    "plt.rcParams['ytick.color'] = \"grey\""
   ]
  },
  {
   "cell_type": "code",
   "execution_count": 119,
   "metadata": {},
   "outputs": [],
   "source": [
    "df_casos = pd.read_csv(\"datasets/COVID 19/ccaa_covid19_casos.csv\")\n",
    "df_casos.set_index(\"CCAA\", inplace = True)\n",
    "df_casos.drop(axis = \"columns\", labels = \"cod_ine\", inplace = True)\n",
    "df_casos.columns = df_casos.columns.map(lambda x: ('casos', pd.Timestamp(x)))"
   ]
  },
  {
   "cell_type": "code",
   "execution_count": 120,
   "metadata": {},
   "outputs": [],
   "source": [
    "df_uci = pd.read_csv(\"datasets/COVID 19/ccaa_covid19_uci.csv\")\n",
    "df_uci.set_index(\"CCAA\", inplace = True)\n",
    "df_uci.drop(axis = \"columns\", labels = \"cod_ine\", inplace = True)\n",
    "df_uci.columns = df_uci.columns.map(lambda x: ('uci', pd.Timestamp(x)))"
   ]
  },
  {
   "cell_type": "code",
   "execution_count": 121,
   "metadata": {},
   "outputs": [],
   "source": [
    "df_altas = pd.read_csv(\"datasets/COVID 19/ccaa_covid19_altas.csv\")\n",
    "df_altas.set_index(\"CCAA\", inplace = True)\n",
    "df_altas.drop(axis = \"columns\", labels = \"cod_ine\", inplace = True)\n",
    "df_altas.columns = df_altas.columns.map(lambda x: ('altas', pd.Timestamp(x)))"
   ]
  },
  {
   "cell_type": "code",
   "execution_count": 122,
   "metadata": {},
   "outputs": [],
   "source": [
    "df_fallecidos = pd.read_csv(\"datasets/COVID 19/ccaa_covid19_fallecidos.csv\")\n",
    "df_fallecidos.set_index(\"CCAA\", inplace = True)\n",
    "df_fallecidos.drop(axis = \"columns\", labels = \"cod_ine\", inplace = True)\n",
    "df_fallecidos.columns = df_fallecidos.columns.map(lambda x: ('fallecidos', pd.Timestamp(x)))"
   ]
  },
  {
   "cell_type": "code",
   "execution_count": 123,
   "metadata": {},
   "outputs": [],
   "source": [
    "df_hospitalizados = pd.read_csv(\"datasets/COVID 19/ccaa_covid19_hospitalizados.csv\")\n",
    "df_hospitalizados.set_index(\"CCAA\", inplace = True)\n",
    "df_hospitalizados.drop(axis = \"columns\", labels = \"cod_ine\", inplace = True)\n",
    "df_hospitalizados.columns = df_hospitalizados.columns.map(lambda x: ('hospitalizados', pd.Timestamp(x)))"
   ]
  },
  {
   "cell_type": "code",
   "execution_count": 124,
   "metadata": {},
   "outputs": [
    {
     "data": {
      "text/html": [
       "<div>\n",
       "<style scoped>\n",
       "    .dataframe tbody tr th:only-of-type {\n",
       "        vertical-align: middle;\n",
       "    }\n",
       "\n",
       "    .dataframe tbody tr th {\n",
       "        vertical-align: top;\n",
       "    }\n",
       "\n",
       "    .dataframe thead th {\n",
       "        text-align: right;\n",
       "    }\n",
       "</style>\n",
       "<table border=\"1\" class=\"dataframe\">\n",
       "  <thead>\n",
       "    <tr style=\"text-align: right;\">\n",
       "      <th></th>\n",
       "      <th></th>\n",
       "      <th>altas</th>\n",
       "      <th>casos</th>\n",
       "      <th>fallecidos</th>\n",
       "      <th>hospitalizados</th>\n",
       "      <th>uci</th>\n",
       "    </tr>\n",
       "    <tr>\n",
       "      <th>CCAA</th>\n",
       "      <th></th>\n",
       "      <th></th>\n",
       "      <th></th>\n",
       "      <th></th>\n",
       "      <th></th>\n",
       "      <th></th>\n",
       "    </tr>\n",
       "  </thead>\n",
       "  <tbody>\n",
       "    <tr>\n",
       "      <th rowspan=\"5\" valign=\"top\">Andalucía</th>\n",
       "      <th>2020-02-27</th>\n",
       "      <td>NaN</td>\n",
       "      <td>1</td>\n",
       "      <td>NaN</td>\n",
       "      <td>NaN</td>\n",
       "      <td>NaN</td>\n",
       "    </tr>\n",
       "    <tr>\n",
       "      <th>2020-02-28</th>\n",
       "      <td>NaN</td>\n",
       "      <td>6</td>\n",
       "      <td>NaN</td>\n",
       "      <td>NaN</td>\n",
       "      <td>NaN</td>\n",
       "    </tr>\n",
       "    <tr>\n",
       "      <th>2020-02-29</th>\n",
       "      <td>NaN</td>\n",
       "      <td>8</td>\n",
       "      <td>NaN</td>\n",
       "      <td>NaN</td>\n",
       "      <td>NaN</td>\n",
       "    </tr>\n",
       "    <tr>\n",
       "      <th>2020-03-01</th>\n",
       "      <td>NaN</td>\n",
       "      <td>12</td>\n",
       "      <td>NaN</td>\n",
       "      <td>NaN</td>\n",
       "      <td>NaN</td>\n",
       "    </tr>\n",
       "    <tr>\n",
       "      <th>2020-03-02</th>\n",
       "      <td>NaN</td>\n",
       "      <td>12</td>\n",
       "      <td>NaN</td>\n",
       "      <td>NaN</td>\n",
       "      <td>NaN</td>\n",
       "    </tr>\n",
       "    <tr>\n",
       "      <th>...</th>\n",
       "      <th>...</th>\n",
       "      <td>...</td>\n",
       "      <td>...</td>\n",
       "      <td>...</td>\n",
       "      <td>...</td>\n",
       "      <td>...</td>\n",
       "    </tr>\n",
       "    <tr>\n",
       "      <th rowspan=\"5\" valign=\"top\">Total</th>\n",
       "      <th>2020-03-25</th>\n",
       "      <td>5367.0</td>\n",
       "      <td>47610</td>\n",
       "      <td>3434.0</td>\n",
       "      <td>26960.0</td>\n",
       "      <td>3166.0</td>\n",
       "    </tr>\n",
       "    <tr>\n",
       "      <th>2020-03-26</th>\n",
       "      <td>7015.0</td>\n",
       "      <td>56188</td>\n",
       "      <td>4089.0</td>\n",
       "      <td>31912.0</td>\n",
       "      <td>3679.0</td>\n",
       "    </tr>\n",
       "    <tr>\n",
       "      <th>2020-03-27</th>\n",
       "      <td>9357.0</td>\n",
       "      <td>64059</td>\n",
       "      <td>4858.0</td>\n",
       "      <td>36293.0</td>\n",
       "      <td>4165.0</td>\n",
       "    </tr>\n",
       "    <tr>\n",
       "      <th>2020-03-28</th>\n",
       "      <td>12285.0</td>\n",
       "      <td>72248</td>\n",
       "      <td>5690.0</td>\n",
       "      <td>40630.0</td>\n",
       "      <td>4575.0</td>\n",
       "    </tr>\n",
       "    <tr>\n",
       "      <th>2020-03-29</th>\n",
       "      <td>14709.0</td>\n",
       "      <td>78797</td>\n",
       "      <td>6528.0</td>\n",
       "      <td>43397.0</td>\n",
       "      <td>4907.0</td>\n",
       "    </tr>\n",
       "  </tbody>\n",
       "</table>\n",
       "<p>640 rows × 5 columns</p>\n",
       "</div>"
      ],
      "text/plain": [
       "                        altas  casos  fallecidos  hospitalizados     uci\n",
       "CCAA                                                                    \n",
       "Andalucía 2020-02-27      NaN      1         NaN             NaN     NaN\n",
       "          2020-02-28      NaN      6         NaN             NaN     NaN\n",
       "          2020-02-29      NaN      8         NaN             NaN     NaN\n",
       "          2020-03-01      NaN     12         NaN             NaN     NaN\n",
       "          2020-03-02      NaN     12         NaN             NaN     NaN\n",
       "...                       ...    ...         ...             ...     ...\n",
       "Total     2020-03-25   5367.0  47610      3434.0         26960.0  3166.0\n",
       "          2020-03-26   7015.0  56188      4089.0         31912.0  3679.0\n",
       "          2020-03-27   9357.0  64059      4858.0         36293.0  4165.0\n",
       "          2020-03-28  12285.0  72248      5690.0         40630.0  4575.0\n",
       "          2020-03-29  14709.0  78797      6528.0         43397.0  4907.0\n",
       "\n",
       "[640 rows x 5 columns]"
      ]
     },
     "execution_count": 124,
     "metadata": {},
     "output_type": "execute_result"
    }
   ],
   "source": [
    "df = df_casos.join(df_altas).join(df_hospitalizados).join(df_uci).join(df_fallecidos).stack()\n",
    "df"
   ]
  },
  {
   "cell_type": "code",
   "execution_count": 149,
   "metadata": {},
   "outputs": [
    {
     "data": {
      "application/vnd.jupyter.widget-view+json": {
       "model_id": "274f5c89f346445d929a0c10bb8f7c6d",
       "version_major": 2,
       "version_minor": 0
      },
      "text/plain": [
       "interactive(children=(Dropdown(description='Región', index=19, options=('Andalucía', 'Aragón', 'Asturias', 'Ba…"
      ]
     },
     "metadata": {},
     "output_type": "display_data"
    }
   ],
   "source": [
    "@interact(where = widgets.Dropdown(\n",
    "    options=df_casos.index.to_list(),\n",
    "    value='Total',\n",
    "    description='Región',\n",
    "    disabled=False,\n",
    "))\n",
    "def plot_regression(where = 'Total'):\n",
    "    fig, ax = plt.subplots(1, figsize = (15, 5))\n",
    "    ax.set_yscale(\"log\")\n",
    "    serie =  df_casos.loc[where]['casos']\n",
    "    serie.plot(ax = ax, color = \"black\")\n",
    "    log =serie.map(lambda x: np.log10(x))\n",
    "    reg = LinearRegression().fit(X = np.arange(len(log)).reshape(-1, 1), y = log)\n",
    "    X = np.arange(len(log)).reshape(-1, 1)\n",
    "    pred = reg.predict(X)\n",
    "    ax.plot(np.power(10, np.array(pred)), label = \"Ajuste\", color = \"gray\", linestyle = \"--\")\n",
    "    R_2 = reg.score(X = X, y = log)\n",
    "    print(f\"R pearson {R_2}\")\n",
    "    print(f\"Rampa : {reg.coef_[0]}\")\n",
    "    print(f\"Cada {1 / reg.coef_[0] } dias, se multiplica por 10\")\n",
    "    ax.grid(which='major', color='#CCCCCC', linestyle='--')\n",
    "    ax.grid(which='minor', color='#CCCCCC', linestyle=':')\n",
    "    ax.set_title(f\"Casos totales en {where}\")\n",
    "    ax.legend()"
   ]
  },
  {
   "cell_type": "code",
   "execution_count": 128,
   "metadata": {},
   "outputs": [],
   "source": [
    "start = pd.Timestamp(day = 14, month = 3, year = 2020)"
   ]
  },
  {
   "cell_type": "code",
   "execution_count": 143,
   "metadata": {},
   "outputs": [
    {
     "data": {
      "application/vnd.jupyter.widget-view+json": {
       "model_id": "22c12db8b3324ff7ac96346e9d9ab3c9",
       "version_major": 2,
       "version_minor": 0
      },
      "text/plain": [
       "interactive(children=(Dropdown(description='Región', index=19, options=('Andalucía', 'Aragón', 'Asturias', 'Ba…"
      ]
     },
     "metadata": {},
     "output_type": "display_data"
    }
   ],
   "source": [
    "@interact(where = widgets.Dropdown(\n",
    "    options=df_casos.index.to_list(),\n",
    "    value='Total',\n",
    "    description='Región',\n",
    "    disabled=False,\n",
    "))\n",
    "def plot_evolution(where = 'Total'):\n",
    "    variables = ['casos', 'hospitalizados', 'uci', 'altas']\n",
    "    fix, ((ax1, ax2), (ax3, ax4)) = plt.subplots(2, 2, figsize = (20, 10), sharex = True)\n",
    "    axes = [ax1, ax2, ax3, ax4]\n",
    "    for variable, ax in zip(variables, axes):\n",
    "        df.loc[where][variable].loc[start:].diff().plot(ax = ax, color = \"black\")\n",
    "        ax.grid()\n",
    "        ax.set_ylabel(variable)\n",
    "        ax.set_title(f\"Número de nuevos {variable} en {where}\")"
   ]
  },
  {
   "cell_type": "code",
   "execution_count": 142,
   "metadata": {},
   "outputs": [
    {
     "data": {
      "application/vnd.jupyter.widget-view+json": {
       "model_id": "236a57e82b404f7690007d884e129346",
       "version_major": 2,
       "version_minor": 0
      },
      "text/plain": [
       "interactive(children=(Dropdown(description='Región', index=19, options=('Andalucía', 'Aragón', 'Asturias', 'Ba…"
      ]
     },
     "metadata": {},
     "output_type": "display_data"
    }
   ],
   "source": [
    "@interact(where = widgets.Dropdown(\n",
    "    options=df_casos.index.to_list(),\n",
    "    value='Total',\n",
    "    description='Región',\n",
    "    disabled=False,\n",
    "), compare = widgets.Dropdown(\n",
    "    options=df_casos.index.to_list(),\n",
    "    value='Total',\n",
    "    description='Comparativa',\n",
    "    disabled=False,\n",
    "))\n",
    "def plot_evolution(where = 'Total', compare = 'Total'):\n",
    "    ratios = [['altas', 'casos'], ['altas', 'hospitalizados'], ['altas', 'uci'], ['uci', 'hospitalizados']]\n",
    "    fix, ((ax1, ax2), (ax3, ax4)) = plt.subplots(2, 2, figsize = (20, 10), sharex = True)\n",
    "    axes = [ax1, ax2, ax3, ax4]\n",
    "    for (variable1, variable2), ax in zip(ratios, axes):\n",
    "        s1 = df.loc[where][variable1].loc[start:].diff()\n",
    "        s2 = df.loc[where][variable2].loc[start:].diff()\n",
    "        s1.div(s2).plot(ax = ax, color = \"black\", label = where)\n",
    "        ax.grid()\n",
    "        ax.set_ylabel(f\"{variable1}/{variable2}\")\n",
    "        ax.set_title(f\"Ratio de nuevos {variable1} / nuevos {variable2} en {where}\")\n",
    "        \n",
    "    if compare is not None:\n",
    "        for (variable1, variable2), ax in zip(ratios, axes):\n",
    "            s1 = df.loc[compare][variable1].loc[start:].diff()\n",
    "            s2 = df.loc[compare][variable2].loc[start:].diff()\n",
    "            s1.div(s2).plot(ax = ax, color = \"grey\", label = compare, linestyle = \"--\")\n",
    "            ax.grid()\n",
    "            ax.set_ylabel(f\"{variable1}/{variable2}\")\n",
    "            ax.set_title(f\"Ratio de nuevos {variable1} / nuevos {variable2}\")\n",
    "            ax.legend()"
   ]
  },
  {
   "cell_type": "code",
   "execution_count": 139,
   "metadata": {},
   "outputs": [
    {
     "data": {
      "application/vnd.jupyter.widget-view+json": {
       "model_id": "7c64d846f4e740be8f5527993660457f",
       "version_major": 2,
       "version_minor": 0
      },
      "text/plain": [
       "interactive(children=(Dropdown(description='Región', index=19, options=('Andalucía', 'Aragón', 'Asturias', 'Ba…"
      ]
     },
     "metadata": {},
     "output_type": "display_data"
    }
   ],
   "source": [
    "@interact(where = widgets.Dropdown(\n",
    "    options=df_casos.index.to_list(),\n",
    "    value='Total',\n",
    "    description='Región',\n",
    "    disabled=False,\n",
    "), compare = widgets.Dropdown(\n",
    "    options=df_casos.index.to_list(),\n",
    "    value='Total',\n",
    "    description='Comparativa',\n",
    "    disabled=False,\n",
    "))\n",
    "def plot_evolution(where = 'Total', compare = 'Total'):\n",
    "    ratios = [['fallecidos', 'casos'], ['hospitalizados', 'casos'], ['uci', 'casos'], ['altas', 'casos']]\n",
    "    fix, ((ax1, ax2), (ax3, ax4)) = plt.subplots(2, 2, figsize = (20, 10), sharex = True)\n",
    "    axes = [ax1, ax2, ax3, ax4]\n",
    "    for (variable1, variable2), ax in zip(ratios, axes):\n",
    "        s1 = df.loc[where][variable1].loc[start:]\n",
    "        s2 = df.loc[where][variable2].loc[start:]\n",
    "        s1.div(s2).plot(ax = ax, color = \"black\", label = where)\n",
    "        ax.grid()\n",
    "        ax.set_ylabel(f\"{variable1}/{variable2}\")\n",
    "        ax.set_title(f\"Ratio de {variable1} / {variable2} en {where}\")\n",
    "        \n",
    "    if compare is not None:\n",
    "        for (variable1, variable2), ax in zip(ratios, axes):\n",
    "            s1 = df.loc[compare][variable1].loc[start:]\n",
    "            s2 = df.loc[compare][variable2].loc[start:]\n",
    "            s1.div(s2).plot(ax = ax, color = \"grey\", linestyle = \"--\", label = compare)\n",
    "            ax.grid()\n",
    "            ax.set_ylabel(f\"{variable1}/{variable2}\")\n",
    "            ax.set_title(f\"Ratio de {variable1} / {variable2}\")\n",
    "            ax.legend()"
   ]
  }
 ],
 "metadata": {
  "kernelspec": {
   "display_name": "Python 3",
   "language": "python",
   "name": "python3"
  },
  "language_info": {
   "codemirror_mode": {
    "name": "ipython",
    "version": 3
   },
   "file_extension": ".py",
   "mimetype": "text/x-python",
   "name": "python",
   "nbconvert_exporter": "python",
   "pygments_lexer": "ipython3",
   "version": "3.8.1"
  }
 },
 "nbformat": 4,
 "nbformat_minor": 4
}
